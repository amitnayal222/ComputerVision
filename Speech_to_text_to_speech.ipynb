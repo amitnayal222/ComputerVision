{
 "cells": [
  {
   "cell_type": "code",
   "execution_count": 1,
   "metadata": {},
   "outputs": [
    {
     "name": "stdout",
     "output_type": "stream",
     "text": [
      "pygame 1.9.6\n",
      "Hello from the pygame community. https://www.pygame.org/contribute.html\n"
     ]
    }
   ],
   "source": [
    "import speech_recognition as sr\n",
    "import pyaudio\n",
    "from gtts import gTTS\n",
    "import os\n",
    "from pygame import mixer  # Load the popular external library"
   ]
  },
  {
   "cell_type": "code",
   "execution_count": 3,
   "metadata": {},
   "outputs": [],
   "source": [
    "r = sr.Recognizer()"
   ]
  },
  {
   "cell_type": "code",
   "execution_count": null,
   "metadata": {},
   "outputs": [],
   "source": [
    "with sr.Microphone() as source:\n",
    "    print(\"I AM LISTENING\")\n",
    "    audio = r.listen(source)\n",
    "    print(\"TIME OVER, THANKS\")\n",
    "    \n",
    "try: \n",
    "    print(\"TEXT:\"+r.recognize_google(audio))\n",
    "except:\n",
    "    pass"
   ]
  },
  {
   "cell_type": "code",
   "execution_count": null,
   "metadata": {},
   "outputs": [],
   "source": [
    "with sr.Microphone() as source:\n",
    "    print(\"I AM LISTENING\")\n",
    "    audio = r.listen(source)\n",
    "    print(\"TIME OVER, THANKS\")\n",
    "    \n",
    "try: \n",
    "    print(\"TEXT:\"+r.recognize_google(audio, language = 'hi-IN'))\n",
    "except:\n",
    "    pass"
   ]
  },
  {
   "cell_type": "code",
   "execution_count": 11,
   "metadata": {},
   "outputs": [
    {
     "name": "stdout",
     "output_type": "stream",
     "text": [
      "I AM LISTENING\n",
      "TIME OVER, THANKS\n",
      "TEXT:hey how are you\n"
     ]
    }
   ],
   "source": [
    "# SPEECH_TO_TEXT_TO_SPEECH\n",
    "\n",
    "\n",
    "with sr.Microphone() as source:\n",
    "    print(\"I AM LISTENING\")\n",
    "    audio = r.listen(source)\n",
    "    print(\"TIME OVER, THANKS\")\n",
    "mytext = r.recognize_google(audio)\n",
    "tex = \"how are you\"\n",
    "\n",
    "    \n",
    "try: \n",
    "    print(\"TEXT:\"+mytext)\n",
    "    if tex in mytext:\n",
    "        mytext = \"I'm good thank you\"\n",
    "except:\n",
    "    pass\n",
    "  \n",
    "# Language in which you want to convert \n",
    "language = 'en'\n",
    "\n",
    "  \n",
    "# Passing the text and language to the engine,  \n",
    "# here we have marked slow=False. Which tells  \n",
    "# the module that the converted audio should  \n",
    "# have a high speed \n",
    "myobj = gTTS(text=mytext, lang=language, slow=False) \n",
    "  \n",
    "# Saving the converted audio in a mp3 file named \n",
    "# welcome  \n",
    "myobj.save(\"welcome0203.mp3\") \n",
    "  \n",
    "# Playing the converted file \n",
    "# os.system(\"mpg321 welcome.mp3\") \n",
    "\n",
    "\n",
    "mixer.init()\n",
    "mixer.music.load('welcome0203.mp3')\n",
    "mixer.music.play()"
   ]
  },
  {
   "cell_type": "code",
   "execution_count": null,
   "metadata": {},
   "outputs": [],
   "source": []
  }
 ],
 "metadata": {
  "kernelspec": {
   "display_name": "Python 3",
   "language": "python",
   "name": "python3"
  },
  "language_info": {
   "codemirror_mode": {
    "name": "ipython",
    "version": 3
   },
   "file_extension": ".py",
   "mimetype": "text/x-python",
   "name": "python",
   "nbconvert_exporter": "python",
   "pygments_lexer": "ipython3",
   "version": "3.7.3"
  }
 },
 "nbformat": 4,
 "nbformat_minor": 2
}
